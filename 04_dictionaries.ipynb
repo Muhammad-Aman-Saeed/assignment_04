{
  "nbformat": 4,
  "nbformat_minor": 0,
  "metadata": {
    "colab": {
      "provenance": [],
      "authorship_tag": "ABX9TyNRDUUAC4n8N+g5bKMas8sl",
      "include_colab_link": true
    },
    "kernelspec": {
      "name": "python3",
      "display_name": "Python 3"
    },
    "language_info": {
      "name": "python"
    }
  },
  "cells": [
    {
      "cell_type": "markdown",
      "metadata": {
        "id": "view-in-github",
        "colab_type": "text"
      },
      "source": [
        "<a href=\"https://colab.research.google.com/github/Muhammad-Aman-Saeed/assignment_04/blob/main/04_dictionaries.ipynb\" target=\"_parent\"><img src=\"https://colab.research.google.com/assets/colab-badge.svg\" alt=\"Open In Colab\"/></a>"
      ]
    },
    {
      "cell_type": "code",
      "execution_count": null,
      "metadata": {
        "colab": {
          "base_uri": "https://localhost:8080/"
        },
        "id": "AT5uRXX8TalP",
        "outputId": "9b057b99-8e2c-45b9-eb3d-1c1d5707026c"
      },
      "outputs": [
        {
          "output_type": "stream",
          "name": "stdout",
          "text": [
            "00_count_nums\n",
            "Enter a number (or esc to stop): 1\n",
            "Enter a number (or esc to stop): 2\n",
            "Enter a number (or esc to stop): 3\n",
            "Enter a number (or esc to stop): 1\n",
            "Enter a number (or esc to stop): 5\n",
            "Enter a number (or esc to stop): 7\n",
            "Enter a number (or esc to stop): 2\n",
            "Enter a number (or esc to stop): 9\n",
            "Enter a number (or esc to stop): 0\n",
            "Enter a number (or esc to stop): 0\n",
            "Enter a number (or esc to stop): 1\n",
            "Enter a number (or esc to stop): 3\n",
            "Enter a number (or esc to stop): 3\n",
            "Enter a number (or esc to stop): esc\n",
            "Invalid input. Please enter a number or (Esc).\n",
            "\n",
            " Number Counts:\n",
            "1 appears 3 times\n",
            "2 appears 2 times\n",
            "3 appears 3 times\n",
            "5 appears 1 times\n",
            "7 appears 1 times\n",
            "9 appears 1 times\n",
            "0 appears 2 times\n"
          ]
        }
      ],
      "source": [
        "print(\"00_count_nums\")\n",
        "\n",
        "def count_nums():\n",
        "  count_dict = {}\n",
        "\n",
        "  while True:\n",
        "    num = input(\"Enter a number (or esc to stop): \")\n",
        "    if num.lower() == 'Esc':\n",
        "      break\n",
        "\n",
        "    if num.isdigit():\n",
        "      num == int(num)\n",
        "\n",
        "      count_dict[num] = count_dict.get(num, 0) + 1\n",
        "    else:\n",
        "      print(\"Invalid input. Please enter a number or (Esc).\")\n",
        "\n",
        "      return count_dict\n",
        "\n",
        "def display_counts(count_dict):\n",
        "  print(\"\\n Number Counts:\")\n",
        "  for key, value in count_dict.items():\n",
        "    print(f\"{key} appears {value} times\")\n",
        "\n",
        "if __name__ == \"__main__\":\n",
        "  count = count_nums()\n",
        "  display_counts(count)"
      ]
    },
    {
      "cell_type": "code",
      "source": [
        "print(\"01_phonebook\")\n",
        "\n",
        "def add_contact(phonebook):\n",
        "  name = input(\"Enter contact name: \")\n",
        "  phone = input(\"Enter contact phone number: \")\n",
        "\n",
        "  if name in phonebook:\n",
        "    print(f\"{name} already exists in the phonebook.\")\n",
        "  else:\n",
        "    phonebook[name] = phone\n",
        "    print(f\"{name} has been added to the phonebook.\")\n",
        "\n",
        "\n",
        "def search_contact(phonebook):\n",
        "  name = input(\"Enter contact name to search: \")\n",
        "\n",
        "  if name in phonebook:\n",
        "    print(f\"{name}'s phone number is {phonebook[name]}\")\n",
        "  else:\n",
        "    print(f\"{name} not found in the phonebook.\")\n",
        "\n",
        "\n",
        "def delete_contact(phonebook):\n",
        "  name = input(\"Enter contact name to delete: \")\n",
        "\n",
        "  if name in phonebook:\n",
        "    del phonebook[name]\n",
        "    print(f\"{name} has been deleted from the phonebook.\")\n",
        "  else:\n",
        "    print(f\"{name} not found in the phonebook.\")\n",
        "\n",
        "\n",
        "def display_contact(phonebook):\n",
        "  if phonebook:\n",
        "    print(\"\\n Contact List:\")\n",
        "    for name, phone in phonebook.items():\n",
        "      print(f\"{name}: {phone}\")\n",
        "  else:\n",
        "    print(\"Phonebook is empty.\")\n",
        "\n",
        "if __name__ == \"__main__\":\n",
        "  phonebook = {}\n",
        "\n",
        "  while True:\n",
        "    print(\"\\n Phonebook Menu:\")\n",
        "    print(\"1. Add Contact\")\n",
        "    print(\"2. Search Contact\")\n",
        "    print(\"3. Delete Contact\")\n",
        "    print(\"4. Display Contact\")\n",
        "    print(\"5. Quit\")\n",
        "\n",
        "    choice = input(\"Enter your choice (1-5): \")\n",
        "\n",
        "    if choice == '1':\n",
        "      add_contact(phonebook)\n",
        "    elif choice == '2':\n",
        "      search_contact(phonebook)\n",
        "    elif choice == '3':\n",
        "      delete_contact(phonebook)\n",
        "    elif choice == '4':\n",
        "      display_contact(phonebook)\n",
        "    elif choice == '5':\n",
        "      print(\"Goodbye!\")\n",
        "      break\n",
        "    else:\n",
        "      print(\"Invalid choice. Please enter a number between 1 to 5.\")\n"
      ],
      "metadata": {
        "colab": {
          "base_uri": "https://localhost:8080/"
        },
        "id": "gelGLgWvafrl",
        "outputId": "072928fd-e82c-43b4-f4e8-ba23623a14b1"
      },
      "execution_count": null,
      "outputs": [
        {
          "output_type": "stream",
          "name": "stdout",
          "text": [
            "01_phonebook\n",
            "\n",
            " Phonebook Menu:\n",
            "1. Add Contact\n",
            "2. Search Contact\n",
            "3. Delete Contact\n",
            "4. Display Contact\n",
            "5. Quit\n",
            "Enter your choice (1-5): 1\n",
            "Enter contact name: aman\n",
            "Enter contact phone number: 1234\n",
            "aman has been added to the phonebook.\n",
            "\n",
            " Phonebook Menu:\n",
            "1. Add Contact\n",
            "2. Search Contact\n",
            "3. Delete Contact\n",
            "4. Display Contact\n",
            "5. Quit\n",
            "Enter your choice (1-5): 2\n",
            "Enter contact name to search: aman\n",
            "aman's phone number is 1234\n",
            "\n",
            " Phonebook Menu:\n",
            "1. Add Contact\n",
            "2. Search Contact\n",
            "3. Delete Contact\n",
            "4. Display Contact\n",
            "5. Quit\n",
            "Enter your choice (1-5): 3\n",
            "Enter contact name to delete: aman\n",
            "aman has been deleted from the phonebook.\n",
            "\n",
            " Phonebook Menu:\n",
            "1. Add Contact\n",
            "2. Search Contact\n",
            "3. Delete Contact\n",
            "4. Display Contact\n",
            "5. Quit\n",
            "Enter your choice (1-5): 4\n",
            "Phonebook is empty.\n",
            "\n",
            " Phonebook Menu:\n",
            "1. Add Contact\n",
            "2. Search Contact\n",
            "3. Delete Contact\n",
            "4. Display Contact\n",
            "5. Quit\n",
            "Enter your choice (1-5): 5\n",
            "Goodbye!\n"
          ]
        }
      ]
    },
    {
      "cell_type": "code",
      "source": [
        "print(\"02_pop_up_shop\")\n",
        "\n",
        "def calculate_total_cost():\n",
        "  fruits_cost = {\n",
        "      \"apple\" : 5.0,\n",
        "      \"mango\" : 15.0,\n",
        "      \"kiwi\" : 8.0,\n",
        "      \"pear\" : 7.0,\n",
        "      \"banana\" : 6.0,\n",
        "      \"orange\" : 10.0\n",
        "  }\n",
        "  total_cost = 0\n",
        "\n",
        "  for fruit, price in fruits_cost.items():\n",
        "    while True:\n",
        "      try:\n",
        "        quantity = int(input(f'How many {fruit} do you want?:'))\n",
        "        if quantity < 0:\n",
        "          print(\"Invalid input. Please enter a non-negative number.\")\n",
        "          continue\n",
        "        total_cost += price * quantity\n",
        "        break\n",
        "      except ValueError:\n",
        "        print(\"Invalid input. Please enter a valid number.\")\n",
        "\n",
        "    print(f\"\\n Your total cost is: {total_cost: 2f}\")\n",
        "\n",
        "if __name__ == \"__main__\":\n",
        "  calculate_total_cost()\n"
      ],
      "metadata": {
        "id": "6HhOD3Ded4HU",
        "colab": {
          "base_uri": "https://localhost:8080/"
        },
        "outputId": "a7703595-afc8-4760-856a-47f646585c04"
      },
      "execution_count": 9,
      "outputs": [
        {
          "output_type": "stream",
          "name": "stdout",
          "text": [
            "02_pop_up_shop\n",
            "How many apple do you want?:6\n",
            "\n",
            " Your total cost is:  30.000000\n",
            "How many mango do you want?:3\n",
            "\n",
            " Your total cost is:  75.000000\n",
            "How many kiwi do you want?:4\n",
            "\n",
            " Your total cost is:  107.000000\n",
            "How many pear do you want?:8\n",
            "\n",
            " Your total cost is:  163.000000\n",
            "How many banana do you want?:6\n",
            "\n",
            " Your total cost is:  199.000000\n",
            "How many orange do you want?:1\n",
            "\n",
            " Your total cost is:  209.000000\n"
          ]
        }
      ]
    },
    {
      "cell_type": "code",
      "source": [
        "import hashlib\n",
        "print(\"03_powerful_passwords\")\n",
        "\n",
        "def hash_password(password):\n",
        "  return hashlib.sha256(password.encode()).hexdigest()\n",
        "\n",
        "stored_logins = {\n",
        "    \"user@xyz.com\": hash_password(\"password123\"),\n",
        "    \"admin@xyz.com\": hash_password(\"adminpass\")\n",
        "}\n",
        "\n",
        "def login(email, password):\n",
        "  if email in stored_logins:\n",
        "    return stored_logins[email] == hash_password(password)\n",
        "  return False\n",
        "\n",
        "if __name__ == \"__main__\":\n",
        "  email = input(\"Enter your email: \")\n",
        "  password = input(\"Enter your password: \")\n",
        "\n",
        "  if login(email, password):\n",
        "    print(\"Login successful!\")\n",
        "  else:\n",
        "    print(\"Invalid email or password.\")\n",
        "\n",
        ""
      ],
      "metadata": {
        "colab": {
          "base_uri": "https://localhost:8080/"
        },
        "id": "KKRLHqugznZH",
        "outputId": "71057c61-3dc3-4c7e-eb00-ff0d7be8de78"
      },
      "execution_count": 12,
      "outputs": [
        {
          "output_type": "stream",
          "name": "stdout",
          "text": [
            "03_powerful_passwords\n",
            "Enter your email: user@xyz.com\n",
            "Enter your password: password123\n",
            "Login successful!\n"
          ]
        }
      ]
    }
  ]
}