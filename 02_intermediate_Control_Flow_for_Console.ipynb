{
  "nbformat": 4,
  "nbformat_minor": 0,
  "metadata": {
    "colab": {
      "provenance": [],
      "authorship_tag": "ABX9TyPQc+bQ5wjOpMfG7cFk+tfU",
      "include_colab_link": true
    },
    "kernelspec": {
      "name": "python3",
      "display_name": "Python 3"
    },
    "language_info": {
      "name": "python"
    }
  },
  "cells": [
    {
      "cell_type": "markdown",
      "metadata": {
        "id": "view-in-github",
        "colab_type": "text"
      },
      "source": [
        "<a href=\"https://colab.research.google.com/github/Muhammad-Aman-Saeed/assignment_04/blob/main/02_intermediate_Control_Flow_for_Console.ipynb\" target=\"_parent\"><img src=\"https://colab.research.google.com/assets/colab-badge.svg\" alt=\"Open In Colab\"/></a>"
      ]
    },
    {
      "cell_type": "code",
      "execution_count": null,
      "metadata": {
        "colab": {
          "base_uri": "https://localhost:8080/"
        },
        "id": "0NovNiVirhZm",
        "outputId": "cbd8a4aa-38e6-4afa-f0b6-fd8aacfb35a1"
      },
      "outputs": [
        {
          "output_type": "stream",
          "name": "stdout",
          "text": [
            "High Low game\n",
            "Welcome to the High Low Game\n",
            "****************************\n",
            "Round 1\n",
            "Your number is  11\n",
            "Do you think your number is higher or lower than the computer's number? higher\n",
            "Your were right: The computer's number was:  98\n",
            "Your score is  1\n",
            "\n",
            "Round 2\n",
            "Your number is  1\n",
            "Do you think your number is higher or lower than the computer's number? higher\n",
            "Your were right: The computer's number was:  51\n",
            "Your score is  2\n",
            "\n",
            "Round 3\n",
            "Your number is  10\n",
            "Do you think your number is higher or lower than the computer's number? higer\n",
            "Incorrect! The computer's number was  1\n",
            "Your score is  2\n",
            "\n",
            "Round 4\n",
            "Your number is  69\n",
            "Do you think your number is higher or lower than the computer's number? lower\n",
            "Your were right: The computer's number was:  43\n",
            "Your score is  3\n",
            "\n",
            "Round 5\n",
            "Your number is  42\n",
            "Do you think your number is higher or lower than the computer's number? lower\n",
            "Your were right: The computer's number was:  15\n",
            "Your score is  4\n",
            "\n",
            "Game over\n"
          ]
        }
      ],
      "source": [
        "import random\n",
        "print(\"High Low game\")\n",
        "\n",
        "round = 5\n",
        "\n",
        "def main():\n",
        "  print(\"Welcome to the High Low Game\")\n",
        "  print(\"****************************\")\n",
        "\n",
        "  your_score = 0\n",
        "\n",
        "  for i in range(round):\n",
        "    print(\"Round\", i + 1)\n",
        "\n",
        "    computer_number:int = random.randint(1,100)\n",
        "    your_number:int = random.randint(1,100)\n",
        "    print(\"Your number is \", your_number)\n",
        "\n",
        "    choice:str = input(\"Do you think your number is higher or lower than the computer's number? \")\n",
        "    higher_and_correct:bool = choice == \"higher\" and computer_number > your_number\n",
        "    lower_and_correct:bool = choice == \"lower\" and computer_number < your_number\n",
        "\n",
        "    if higher_and_correct or lower_and_correct:\n",
        "      print(\"Your were right: The computer\\'s number was: \", computer_number)\n",
        "      your_score += 1\n",
        "    else:\n",
        "      print(\"Incorrect! The computer\\'s number was \", computer_number)\n",
        "    print(\"Your score is \", your_score)\n",
        "    print()\n",
        "\n",
        "  print(\"Game over\")\n",
        "  return\n",
        "\n",
        "if __name__ == \"__main__\":\n",
        "  main()\n"
      ]
    },
    {
      "cell_type": "code",
      "source": [],
      "metadata": {
        "id": "78qIkukemC_o"
      },
      "execution_count": null,
      "outputs": []
    },
    {
      "cell_type": "code",
      "source": [
        "print(\"Planetary Weight Calculator\")\n",
        "\n",
        "def main():\n",
        "  print(\"Welcome to the Planetary Weight Calculator\")\n",
        "  print(\"******************************************\")\n",
        "\n",
        "earth_weight = float(input(\"Enter your weight on Earth: \"))\n",
        "\n",
        "gravity_ratio ={\n",
        "    \"Mercury\": 0.38,\n",
        "    \"Venus\": 0.91,\n",
        "    \"Mars\": 0.38,\n",
        "    \"Jupiter\": 2.34,\n",
        "    \"Saturn\": 0.93,\n",
        "    \"Uranus\": 0.92,\n",
        "    \"Neptune\": 1.19\n",
        "}\n",
        "\n",
        "print(\"Select the planet\")\n",
        "for planet in gravity_ratio:\n",
        "  print(f\" - {planet}\")\n",
        "planet_choice = input(\"Enter the name of the planet: \").title()\n",
        "\n",
        "if planet_choice in gravity_ratio:\n",
        "  weight_on_planet = earth_weight * gravity_ratio[planet_choice]\n",
        "  print(f\"Your weight on {planet_choice} is {weight_on_planet:2f} kg\")\n",
        "else:\n",
        "  print(\"Invalid planet choice\")\n",
        "\n",
        "if __name__ == \"__main__\":\n",
        "  main()\n"
      ],
      "metadata": {
        "colab": {
          "base_uri": "https://localhost:8080/"
        },
        "id": "JLiKBAm_0zHy",
        "outputId": "a287ac64-60bf-4400-a3f2-a1cc1fc86cc0"
      },
      "execution_count": null,
      "outputs": [
        {
          "output_type": "stream",
          "name": "stdout",
          "text": [
            "Planetary Weight Calculator\n",
            "Enter your weight on Earth: 89\n",
            "Select the planet\n",
            " - Mercury\n",
            " - Venus\n",
            " - Mars\n",
            " - Jupiter\n",
            " - Saturn\n",
            " - Uranus\n",
            " - Neptune\n",
            "Enter the name of the planet: venus\n",
            "Your weight on Venus is 80.990000 kg\n",
            "Welcome to the Planetary Weight Calculator\n",
            "******************************************\n"
          ]
        }
      ]
    },
    {
      "cell_type": "code",
      "source": [
        "print(\"Lists and Dicts\")\n",
        "\n",
        "my_list = [\"Apple\", \"Mango\", \"Banana\", \"Orange\", \"Grapes\"]\n",
        "\n",
        "def access_element(my_list,index):\n",
        "  \"\"\"Returns the element at the specified index or an error message if out of range.\"\"\"\n",
        "  if 0 <= index  < len(my_list):\n",
        "    return f\"Element at index {index}: {my_list[index]}\"\n",
        "  return \"Index is out of range\"\n",
        "\n",
        "def modify_element(my_list,index, new_value):\n",
        "  \"\"\"Modifies the element at the specified index with the new value.\"\"\"\n",
        "  if 0 <= index  <len(my_list):\n",
        "    old_value = my_list[index]\n",
        "    my_list[index] = new_value\n",
        "    return f\"Element at index {index} modified from {old_value} to {new_value}\"\n",
        "  return \"Index is out of range\"\n",
        "\n",
        "def slice_list(my_list, start, end):\n",
        "  \"\"\"Returns a new list containing the elements from the start index to the end index.\"\"\"\n",
        "  if 0 <= start <len(my_list) and 0 <= end <= len(my_list):\n",
        "    return f\"Sliced list: {my_list[start:end]}\"\n",
        "  return (\"Invalid slice indicates!\")\n",
        "\n",
        "\n",
        "def list_game():\n",
        "  print(\"Welcome to the List Game\")\n",
        "  print(\"************************\")\n",
        "\n",
        "my_list = [\"Apple\", \"Mango\", \"Banana\", \"Orange\", \"Grapes\"]\n",
        "while True:\n",
        "  print(\"Current List\", my_list)\n",
        "\n",
        "\n",
        "  print(\"Select an option:\")\n",
        "  print(\"1. Access Element\")\n",
        "  print(\"2. Modify Element\")\n",
        "  print(\"3. Slice List\")\n",
        "  print(\"4. Quit\")\n",
        "\n",
        "  choice = input(\"Enter your choice (1-4): \")\n",
        "\n",
        "  if choice == \"1\":\n",
        "    index = int(input(\"Enter the index of the element you want to access: \"))\n",
        "    print(access_element(my_list,index))\n",
        "\n",
        "  elif choice == \"2\":\n",
        "    index = int(input(\"Enter the index of the element you want to modify: \"))\n",
        "    new_value = input(\"Enter the new value for the element: \")\n",
        "    print(modify_element(my_list, index, new_value))\n",
        "\n",
        "  elif choice == \"3\":\n",
        "    start = int(input(\"Enter the start index of the slice: \"))\n",
        "    end = int(input(\"Enter the end index of the slice: \"))\n",
        "    print(slice_list(my_list, start, end))\n",
        "\n",
        "  elif choice == \"4\":\n",
        "    print(\"Game Over!\")\n",
        "    break\n",
        "\n",
        "  else:\n",
        "    print(\"Invalid choice. Please try again.\")\n",
        "\n",
        "if __name__ == \"__main__\":\n",
        "  list_game()"
      ],
      "metadata": {
        "colab": {
          "base_uri": "https://localhost:8080/"
        },
        "id": "IZHtIvTaxtc8",
        "outputId": "cb9b5a87-bb06-483e-c974-5c2993f0d81d"
      },
      "execution_count": 3,
      "outputs": [
        {
          "output_type": "stream",
          "name": "stdout",
          "text": [
            "Lists and Dicts\n",
            "Current List ['Apple', 'Mango', 'Banana', 'Orange', 'Grapes']\n",
            "Select an option:\n",
            "1. Access Element\n",
            "2. Modify Element\n",
            "3. Slice List\n",
            "4. Quit\n",
            "Enter your choice (1-4): 2\n",
            "Enter the index of the element you want to modify: 1\n",
            "Enter the new value for the element: Pineapple\n",
            "Element at index 1 modified from Mango to Pineapple\n",
            "Current List ['Apple', 'Pineapple', 'Banana', 'Orange', 'Grapes']\n",
            "Select an option:\n",
            "1. Access Element\n",
            "2. Modify Element\n",
            "3. Slice List\n",
            "4. Quit\n",
            "Enter your choice (1-4): 1\n",
            "Enter the index of the element you want to access: 2\n",
            "Element at index 2: Banana\n",
            "Current List ['Apple', 'Pineapple', 'Banana', 'Orange', 'Grapes']\n",
            "Select an option:\n",
            "1. Access Element\n",
            "2. Modify Element\n",
            "3. Slice List\n",
            "4. Quit\n",
            "Enter your choice (1-4): 3\n",
            "Enter the start index of the slice: 0\n",
            "Enter the end index of the slice: 1\n",
            "Sliced list: ['Apple']\n",
            "Current List ['Apple', 'Pineapple', 'Banana', 'Orange', 'Grapes']\n",
            "Select an option:\n",
            "1. Access Element\n",
            "2. Modify Element\n",
            "3. Slice List\n",
            "4. Quit\n",
            "Enter your choice (1-4): 4\n",
            "Game Over!\n",
            "Welcome to the List Game\n",
            "************************\n"
          ]
        }
      ]
    }
  ]
}