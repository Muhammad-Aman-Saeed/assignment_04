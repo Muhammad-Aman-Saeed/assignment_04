{
  "nbformat": 4,
  "nbformat_minor": 0,
  "metadata": {
    "colab": {
      "provenance": [],
      "authorship_tag": "ABX9TyOgxYQ0yIdTIFsjaEL0DeTH",
      "include_colab_link": true
    },
    "kernelspec": {
      "name": "python3",
      "display_name": "Python 3"
    },
    "language_info": {
      "name": "python"
    }
  },
  "cells": [
    {
      "cell_type": "markdown",
      "metadata": {
        "id": "view-in-github",
        "colab_type": "text"
      },
      "source": [
        "<a href=\"https://colab.research.google.com/github/Muhammad-Aman-Saeed/assignment_04/blob/main/02_lists.ipynb\" target=\"_parent\"><img src=\"https://colab.research.google.com/assets/colab-badge.svg\" alt=\"Open In Colab\"/></a>"
      ]
    },
    {
      "cell_type": "code",
      "execution_count": null,
      "metadata": {
        "colab": {
          "base_uri": "https://localhost:8080/"
        },
        "id": "vFu90_npRLny",
        "outputId": "a3f3d46e-42d4-48d0-dfa4-f17a037d41f2"
      },
      "outputs": [
        {
          "output_type": "stream",
          "name": "stdout",
          "text": [
            "01_add_many_number\n",
            "21\n"
          ]
        }
      ],
      "source": [
        "print(\"01_add_many_number\")\n",
        "\n",
        "def add_number(numbers) -> int:\n",
        "  num: int = 0\n",
        "  for i in numbers:\n",
        "    num += i\n",
        "  return num\n",
        "\n",
        "def main():\n",
        "  numbers: list [int] = [1,2,3,4,5,6]\n",
        "  sum = add_number(numbers)\n",
        "  print(sum)\n",
        "\n",
        "if __name__ == \"__main__\":\n",
        "  main()"
      ]
    },
    {
      "cell_type": "code",
      "source": [
        "print(\"02_double_list\")\n",
        "\n",
        "def main():\n",
        "  num: list[int] = [1,2,3,4,5,6]\n",
        "  for i in range(len(num)):\n",
        "    num[i] *= 2\n",
        "  print(num)\n",
        "\n",
        "if __name__ == \"__main__\":\n",
        "  main()"
      ],
      "metadata": {
        "colab": {
          "base_uri": "https://localhost:8080/"
        },
        "id": "YMfAwt41TN6A",
        "outputId": "fda70230-dac6-4342-f596-05bc020a576c"
      },
      "execution_count": null,
      "outputs": [
        {
          "output_type": "stream",
          "name": "stdout",
          "text": [
            "02_double_list\n",
            "[2, 4, 6, 8, 10, 12]\n"
          ]
        }
      ]
    },
    {
      "cell_type": "code",
      "source": [
        "print(\"04_flowing_with_data_structures\")\n",
        "\n",
        "def copies(list, data):\n",
        "  for i in range(3):\n",
        "    list.append(data)\n",
        "\n",
        "def main():\n",
        "  message = input(\"Enter a message to copy: \")\n",
        "  list = []\n",
        "  print (\"Before list:\", list)\n",
        "  copies (list, message)\n",
        "  print (\"After list:\", list)\n",
        "\n",
        "if __name__ == \"__main__\":\n",
        "  main()"
      ],
      "metadata": {
        "colab": {
          "base_uri": "https://localhost:8080/"
        },
        "id": "YP-1UH6AT8Nw",
        "outputId": "463b7481-03d4-4c59-dac4-de556ebc1628"
      },
      "execution_count": null,
      "outputs": [
        {
          "output_type": "stream",
          "name": "stdout",
          "text": [
            "04_flowing_with_data_structures\n",
            "Enter a message to copy: aman\n",
            "Before list: []\n",
            "After list: ['aman', 'aman', 'aman']\n"
          ]
        }
      ]
    },
    {
      "cell_type": "code",
      "source": [
        "print(\"05_get_first_element\")\n",
        "\n",
        "def get_first_element(lst):\n",
        "  print(lst[0])\n",
        "\n",
        "def get_lst():\n",
        "  lst = []\n",
        "  elem: str = input(\"Enter an element to add in this list:\")\n",
        "  while elem != \"\":\n",
        "    lst.append(elem)\n",
        "    elem = input (\"Enter an element to add in this list:\")\n",
        "  return lst\n",
        "\n",
        "def main():\n",
        "  lst = get_lst()\n",
        "  get_first_element(lst)\n",
        "\n",
        "if __name__ == \"__main__\":\n",
        "  main()"
      ],
      "metadata": {
        "colab": {
          "base_uri": "https://localhost:8080/"
        },
        "id": "-XOvjKjec1Vc",
        "outputId": "2872d715-0883-430c-af13-5b494fecea27"
      },
      "execution_count": null,
      "outputs": [
        {
          "output_type": "stream",
          "name": "stdout",
          "text": [
            "05_get_first_element\n",
            "Enter an element to add in this list:a\n",
            "Enter an element to add in this list:m\n",
            "Enter an element to add in this list:a\n",
            "Enter an element to add in this list:n\n",
            "Enter an element to add in this list:\n",
            "a\n"
          ]
        }
      ]
    },
    {
      "cell_type": "code",
      "source": [
        "print(\"06_get_last_element\")\n",
        "\n",
        "def get_last_element(lst):\n",
        "  print(lst[-1])\n",
        "\n",
        "def get_lst():\n",
        "  lst =[]\n",
        "  elem: str = input(\"Enter an element to add in this list:\")\n",
        "  while elem != \"\":\n",
        "    lst.append(elem)\n",
        "    elem = input (\"Enter an element to add in this list:\")\n",
        "  return lst\n",
        "\n",
        "def main():\n",
        "  lst = get_lst()\n",
        "  get_last_element(lst)\n",
        "\n",
        "if __name__ == \"__main__\":\n",
        "  main()\n"
      ],
      "metadata": {
        "colab": {
          "base_uri": "https://localhost:8080/"
        },
        "id": "RuB3cWOZilTZ",
        "outputId": "37177e22-cd76-4de8-a98c-8ef4c058c016"
      },
      "execution_count": null,
      "outputs": [
        {
          "output_type": "stream",
          "name": "stdout",
          "text": [
            "06_f=get_last_element\n",
            "Enter an element to add in this list:b\n",
            "Enter an element to add in this list:a\n",
            "Enter an element to add in this list:s\n",
            "Enter an element to add in this list:d\n",
            "Enter an element to add in this list:\n",
            "d\n"
          ]
        }
      ]
    },
    {
      "cell_type": "code",
      "source": [
        "print(\"07_get_list\")\n",
        "\n",
        "def main():\n",
        "  lst =[]\n",
        "  val = input(\"Enter a value to add in the list:\")\n",
        "  while val:\n",
        "    lst.append(val)\n",
        "    val = input (\"Enter a value to add to the list:\")\n",
        "  print(\"Here's the list:\", lst)\n",
        "\n",
        "if __name__ == \"__main__\":\n",
        "  main()"
      ],
      "metadata": {
        "colab": {
          "base_uri": "https://localhost:8080/"
        },
        "id": "VQOxk1pAjoOK",
        "outputId": "a9a8ef8d-252d-4564-c736-f760f828ca5a"
      },
      "execution_count": null,
      "outputs": [
        {
          "output_type": "stream",
          "name": "stdout",
          "text": [
            "07_get_list\n",
            "Enter a value to add in the list:aman\n",
            "Enter a value to add to the list:zaeem\n",
            "Enter a value to add to the list:\n",
            "Here's the list: ['aman', 'zaeem']\n"
          ]
        }
      ]
    },
    {
      "cell_type": "code",
      "source": [
        "print(\"08_shorten\")\n",
        "\n",
        "MAX_LENGTH: int = 3\n",
        "def shorten(lst):\n",
        "  while len(lst) > MAX_LENGTH:\n",
        "    last_elem = lst.pop()\n",
        "    print(last_elem)\n",
        "\n",
        "def get_lst():\n",
        "  lst =[]\n",
        "  elem = input (\"Enter an element to add to the list:\")\n",
        "  while elem != \"\":\n",
        "    lst.append(elem)\n",
        "    elem = input(\"Enter an element to add in the list:\")\n",
        "  return lst\n",
        "def main():\n",
        "  lst = get_lst()\n",
        "  shorten(lst)\n",
        "if __name__ ==\"__main__\":\n",
        "  main()"
      ],
      "metadata": {
        "colab": {
          "base_uri": "https://localhost:8080/"
        },
        "id": "pC3mmUhVotOI",
        "outputId": "f3820e8e-ba18-435a-8604-e68c17f3a035"
      },
      "execution_count": 56,
      "outputs": [
        {
          "output_type": "stream",
          "name": "stdout",
          "text": [
            "08_shorten\n",
            "Enter an element to add to the list:a\n",
            "Enter an element to add in the list:b\n",
            "Enter an element to add in the list:c\n",
            "Enter an element to add in the list:d\n",
            "Enter an element to add in the list:e\n",
            "Enter an element to add in the list:f\n",
            "Enter an element to add in the list:\n",
            "f\n",
            "e\n",
            "d\n"
          ]
        }
      ]
    }
  ]
}