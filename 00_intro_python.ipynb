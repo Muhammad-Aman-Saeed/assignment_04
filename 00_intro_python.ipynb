{
  "nbformat": 4,
  "nbformat_minor": 0,
  "metadata": {
    "colab": {
      "provenance": [],
      "authorship_tag": "ABX9TyOXmO3VrP99gg+H9J//JVkw",
      "include_colab_link": true
    },
    "kernelspec": {
      "name": "python3",
      "display_name": "Python 3"
    },
    "language_info": {
      "name": "python"
    }
  },
  "cells": [
    {
      "cell_type": "markdown",
      "metadata": {
        "id": "view-in-github",
        "colab_type": "text"
      },
      "source": [
        "<a href=\"https://colab.research.google.com/github/Muhammad-Aman-Saeed/assignment_04/blob/main/00_intro_python.ipynb\" target=\"_parent\"><img src=\"https://colab.research.google.com/assets/colab-badge.svg\" alt=\"Open In Colab\"/></a>"
      ]
    },
    {
      "cell_type": "code",
      "execution_count": 1,
      "metadata": {
        "colab": {
          "base_uri": "https://localhost:8080/"
        },
        "id": "XIK-5C_LnvkM",
        "outputId": "7c287cee-be39-48f9-c967-326f41f6d319"
      },
      "outputs": [
        {
          "output_type": "stream",
          "name": "stdout",
          "text": [
            "01_add_two_numbers\n",
            "This application add two numbers\n",
            "Enter first number:9\n",
            "Enter second number:4\n",
            "The sum of 9 and 4 is 13\n"
          ]
        }
      ],
      "source": [
        "print(\"01_add_two_numbers\")\n",
        "\n",
        "def sum():\n",
        "  print (\"This application add two numbers\")\n",
        "\n",
        "  first_number = int(input(\"Enter first number:\"))\n",
        "  second_number = int(input(\"Enter second number:\"))\n",
        "  sum = int(first_number + second_number)\n",
        "  print(f\"The sum of {first_number} and {second_number} is {sum}\")\n",
        "\n",
        "if __name__ == \"__main__\":\n",
        "  sum()"
      ]
    },
    {
      "cell_type": "code",
      "source": [
        "print(\"02_agreement_bot\")\n",
        "def bot():\n",
        "  animal = str(input(\"What's your favourite animal?\"))\n",
        "  print(f\"My favourite animal is also {animal}\")\n",
        "if __name__ == \"__main__\":\n",
        "  bot()"
      ],
      "metadata": {
        "id": "lDdQSqjQ3jio",
        "colab": {
          "base_uri": "https://localhost:8080/"
        },
        "outputId": "1f8d02b4-2997-49bb-b89b-b1fa80556896"
      },
      "execution_count": 2,
      "outputs": [
        {
          "output_type": "stream",
          "name": "stdout",
          "text": [
            "02_agreement_bot\n",
            "What is your favourite animal?cow\n",
            "My favourite animal is also cow\n"
          ]
        }
      ]
    },
    {
      "cell_type": "code",
      "source": [
        "print(\"03_fahrenheit_to_celsius\")\n",
        "\n",
        "def temp():\n",
        "  print(\"This application converts Fahrenheit to Celsius\")\n",
        "  fahrenheit = float(input(\"Enter temperature in Fahrenheit:\"))\n",
        "  celsius = (fahrenheit - 32) * 5/9\n",
        "  print(f\"{fahrenheit} degrees Fahrenheit is equals to {celsius} degrees Celsius\")\n",
        "if __name__ == \"__main__\":\n",
        "  temp()\n"
      ],
      "metadata": {
        "colab": {
          "base_uri": "https://localhost:8080/"
        },
        "id": "sgH5lsy2fxzc",
        "outputId": "29cf47a3-0cdf-4241-cbc9-35ffbe7c5974"
      },
      "execution_count": 6,
      "outputs": [
        {
          "output_type": "stream",
          "name": "stdout",
          "text": [
            "03_fahrenheit_to_celsius\n",
            "This application converts Fahrenheit to Celsius\n",
            "Enter temperature in Fahrenheit:92\n",
            "92.0 degrees Fahrenheit is equals to 33.333333333333336 degrees Celsius\n"
          ]
        }
      ]
    },
    {
      "cell_type": "code",
      "source": [
        "print(\"04_how_old_are_they\")\n",
        "\n",
        "def add_ages():\n",
        "  anton: int = 21\n",
        "  beth: int = anton + 6\n",
        "  chen: int = beth + 20\n",
        "  drew: int = chen + anton\n",
        "  ethan: int = chen\n",
        "\n",
        "  print(\"Anton is \"+ str(anton))\n",
        "  print(\"Beth is \" + str(beth))\n",
        "  print(\"Chen is \" + str(chen))\n",
        "  print(\"Drew is \" + str(drew))\n",
        "  print(\"Ethan is \" + str(ethan))\n",
        "\n",
        "if __name__ == \"__main__\":\n",
        "  add_ages()"
      ],
      "metadata": {
        "colab": {
          "base_uri": "https://localhost:8080/"
        },
        "id": "ZVsEoKM6iPd1",
        "outputId": "0edbbf89-0757-4590-cdd7-c400e8e1330b"
      },
      "execution_count": 9,
      "outputs": [
        {
          "output_type": "stream",
          "name": "stdout",
          "text": [
            "04_how_old_are_they\n",
            "Anton is 21\n",
            "Beth is 27\n",
            "Chen is 47\n",
            "Drew is 68\n",
            "Ethan is 47\n"
          ]
        }
      ]
    },
    {
      "cell_type": "code",
      "source": [
        "print(\"05_triangle_perimeter\")\n",
        "\n",
        "def triangle():\n",
        "  print(\"This application calculates the perimeter of a triangle\")\n",
        "  side_1: float = float(input(\"Enter the length of side 1:\"))\n",
        "  side_2: float = float(input(\"Enter the length of side 2:\"))\n",
        "  side_3: float = float(input(\"Enter the length of side 3:\"))\n",
        "  perimeter = float(side_1 + side_2 + side_3)\n",
        "  print(f\"The perimeter of the triangle is {perimeter}\")\n",
        "\n",
        "if __name__ == \"__main__\":\n",
        "  triangle()"
      ],
      "metadata": {
        "colab": {
          "base_uri": "https://localhost:8080/"
        },
        "id": "k2hJZJUMk7aF",
        "outputId": "148d073b-c52d-4264-8dd6-a02214414f5a"
      },
      "execution_count": 15,
      "outputs": [
        {
          "output_type": "stream",
          "name": "stdout",
          "text": [
            "05_triangle_perimeter\n",
            "This application calculates the perimeter of a triangle\n",
            "Enter the length of side 1:3\n",
            "Enter the length of side 2:4\n",
            "Enter the length of side 3:5.5\n",
            "The perimeter of the triangle is 12.5\n"
          ]
        }
      ]
    },
    {
      "cell_type": "code",
      "source": [
        "print(\"06_square_number\")\n",
        "\n",
        "def square():\n",
        "  print(\"This application calculates the square of a number\")\n",
        "  number = int(input(\"Enter a number:\"))\n",
        "  square = int(number ** 2)\n",
        "  print(f\"The square of {number} is {square}\")\n",
        "if __name__ == \"__main__\":\n",
        "  square()"
      ],
      "metadata": {
        "colab": {
          "base_uri": "https://localhost:8080/"
        },
        "id": "PMvdT-9wsfi4",
        "outputId": "b15b89ef-c4bc-4786-8dfc-fbcceb0282e8"
      },
      "execution_count": 18,
      "outputs": [
        {
          "output_type": "stream",
          "name": "stdout",
          "text": [
            "06_square_number\n",
            "This application calculates the square of a number\n",
            "Enter a number:4\n",
            "The square of 4 is 16\n"
          ]
        }
      ]
    }
  ]
}