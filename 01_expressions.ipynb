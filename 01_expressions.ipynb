{
  "nbformat": 4,
  "nbformat_minor": 0,
  "metadata": {
    "colab": {
      "provenance": [],
      "authorship_tag": "ABX9TyNm3AgnLuR1D7g4OnWzg6lJ",
      "include_colab_link": true
    },
    "kernelspec": {
      "name": "python3",
      "display_name": "Python 3"
    },
    "language_info": {
      "name": "python"
    }
  },
  "cells": [
    {
      "cell_type": "markdown",
      "metadata": {
        "id": "view-in-github",
        "colab_type": "text"
      },
      "source": [
        "<a href=\"https://colab.research.google.com/github/Muhammad-Aman-Saeed/assignment_04/blob/main/01_expressions.ipynb\" target=\"_parent\"><img src=\"https://colab.research.google.com/assets/colab-badge.svg\" alt=\"Open In Colab\"/></a>"
      ]
    },
    {
      "cell_type": "code",
      "source": [
        "import random\n",
        "print(\"01_dicesimulator\")\n",
        "\n",
        "def roll_dice():\n",
        "  die_1: int = random.randint(1, 6)\n",
        "  die_2: int = random.randint(1, 6)\n",
        "  total: int = die_1 + die_2\n",
        "  print (f\"Total of two dice: {total}\")\n",
        "\n",
        "def main():\n",
        "  die_1: int = 10\n",
        "  print(\"die_1 in main start as: \" + str(die_1))\n",
        "  roll_dice()\n",
        "  roll_dice()\n",
        "  print(\"die_1 & main() is: \" + str(die_1))\n",
        "\n",
        "if __name__ == \"__main__\":\n",
        "  main()"
      ],
      "metadata": {
        "colab": {
          "base_uri": "https://localhost:8080/"
        },
        "id": "3FG7Le4Z3lkQ",
        "outputId": "869ad72b-07bb-48ef-c2ca-dfc5d3fd740e"
      },
      "execution_count": null,
      "outputs": [
        {
          "output_type": "stream",
          "name": "stdout",
          "text": [
            "01_dicesimulator\n",
            "die_1 in main start as: 10\n",
            "Total of two dice: 7\n",
            "Total of two dice: 8\n",
            "die_1 & main() is: 10\n"
          ]
        }
      ]
    },
    {
      "cell_type": "code",
      "source": [
        "print(\"02_e=mc2\")\n",
        "\n",
        "def energy():\n",
        "  c: float = 299792458\n",
        "  m:float = float(input(\"Enter the value of mass: \"))\n",
        "  print(\"e = m * c^2\")\n",
        "  print(\"Mass is equals to: \" + str(m) + \" kg\")\n",
        "  print(\"c is equals to: \" + str(c) + \" m/s\")\n",
        "  print (\"e is equals to: \" + str(m * c**2) + \" joules\")\n",
        "\n",
        "if __name__ == \"__main__\":\n",
        "  energy()"
      ],
      "metadata": {
        "colab": {
          "base_uri": "https://localhost:8080/"
        },
        "id": "-Kylq5nY8-sY",
        "outputId": "f7d947c8-9950-4acd-f971-0a66a2ee0662"
      },
      "execution_count": null,
      "outputs": [
        {
          "output_type": "stream",
          "name": "stdout",
          "text": [
            "02_e=mc2\n",
            "Enter the value of mass: 10\n",
            "e = m * c^2\n",
            "Mass is equals to: 10.0 kg\n",
            "c is equals to: 299792458 m/s\n",
            "e is equals to: 8.987551787368177e+17 joules\n"
          ]
        }
      ]
    },
    {
      "cell_type": "code",
      "source": [
        "print(\"03_feet_to_inches\")\n",
        "\n",
        "inch: int = 12\n",
        "def foot():\n",
        "  feet: int = int (input(\"Enter the value of feet to convert it into inches: \"))\n",
        "  print(f\"There are {feet * inch} inches in {feet} feet\")\n",
        "\n",
        "if __name__ == \"__main__\":\n",
        "  foot()"
      ],
      "metadata": {
        "colab": {
          "base_uri": "https://localhost:8080/"
        },
        "id": "i3G5y-7_Amin",
        "outputId": "b1090034-1af2-4ab4-bc65-37e163cef5fe"
      },
      "execution_count": null,
      "outputs": [
        {
          "output_type": "stream",
          "name": "stdout",
          "text": [
            "03_feet_to_inches\n",
            "Enter the value of feet to convert it into inches: 9\n",
            "There are 108 inches in 9 feet\n"
          ]
        }
      ]
    },
    {
      "cell_type": "code",
      "source": [
        "import math\n",
        "print(\"04_pythagorean_theorem\")\n",
        "\n",
        "def triangle():\n",
        "  ab:float = float(input(\"Enter the value of side AB: \"))\n",
        "  ac:float = float(input(\"Enter the value of side AC: \"))\n",
        "  bc:float = math.sqrt(ab**2 + ac**2)\n",
        "  print(f\"The value of side BC is: {bc}\")\n",
        "\n",
        "if __name__ == \"__main__\":\n",
        "  triangle()"
      ],
      "metadata": {
        "colab": {
          "base_uri": "https://localhost:8080/"
        },
        "id": "25cK0bemIA2n",
        "outputId": "750d92f9-e549-49ca-bc0f-c7682555be1f"
      },
      "execution_count": null,
      "outputs": [
        {
          "output_type": "stream",
          "name": "stdout",
          "text": [
            "04_pythagorean_theorem\n",
            "Enter the value of side AB: 5\n",
            "Enter the value of side AC: 5\n",
            "The value of side BC is: 7.0710678118654755\n"
          ]
        }
      ]
    },
    {
      "cell_type": "code",
      "source": [
        "print(\"05_remainder_division\")\n",
        "\n",
        "def remainder():\n",
        "  num1:int = int(input(\"Enter the first number: \"))\n",
        "  num2:int = int(input(\"Enter the second number: \"))\n",
        "  quotient:int = num1 // num2\n",
        "  remainder:int = num1 % num2\n",
        "  print(f\"{num1} divided by {num2} is {quotient} with remainder {remainder}\")\n",
        "\n",
        "if __name__ == \"__main__\":\n",
        "  remainder()"
      ],
      "metadata": {
        "id": "MkkGv9f2JYlP",
        "colab": {
          "base_uri": "https://localhost:8080/"
        },
        "outputId": "987d3787-8fc2-4b34-b76b-412a90d275b2"
      },
      "execution_count": null,
      "outputs": [
        {
          "output_type": "stream",
          "name": "stdout",
          "text": [
            "05_remainder_division\n",
            "Enter the first number: 9\n",
            "Enter the second number: 5\n",
            "9 divided by 5 is 1 with remainder 4\n"
          ]
        }
      ]
    },
    {
      "cell_type": "code",
      "source": [
        "import random\n",
        "print (\"06_rolldice\")\n",
        "\n",
        "def roll_dice():\n",
        "  die_1: int = random.randint(1, 6)\n",
        "  die_2: int = random.randint(1, 6)\n",
        "  total: int = int (die_1 + die_2)\n",
        "  print ((\"First dies: \" + str(die_1)))\n",
        "  print ((\"Second dies: \" + str(die_2)))\n",
        "  print (f\"Total of two dice: {total}\")\n",
        "\n",
        "if __name__ == \"__main__\":\n",
        "  roll_dice()\n",
        "\n"
      ],
      "metadata": {
        "id": "o7lj9ruROtPY",
        "colab": {
          "base_uri": "https://localhost:8080/"
        },
        "outputId": "1451b316-fc2c-4229-9a35-34d7b1840f44"
      },
      "execution_count": 16,
      "outputs": [
        {
          "output_type": "stream",
          "name": "stdout",
          "text": [
            "06_rolldice\n",
            "First dies: 3\n",
            "Second dies: 5\n",
            "Total of two dice: 8\n"
          ]
        }
      ]
    },
    {
      "cell_type": "code",
      "source": [
        "print (\"07_seconds_in_year\")\n",
        "\n",
        "days_in_year: int = 365\n",
        "hours_in_day: int = 24\n",
        "minutes_in_hour: int = 60\n",
        "seconds_in_minute: int = 60\n",
        "\n",
        "def second():\n",
        "  print(f\"There are {days_in_year * hours_in_day * minutes_in_hour * seconds_in_minute} seconds in a year\")\n",
        "\n",
        "if __name__ == \"__main__\":\n",
        "  second()"
      ],
      "metadata": {
        "colab": {
          "base_uri": "https://localhost:8080/"
        },
        "id": "Y2d5ZGrUMQ5D",
        "outputId": "69c406da-062b-48b9-99ca-b20c6e4ce31d"
      },
      "execution_count": 17,
      "outputs": [
        {
          "output_type": "stream",
          "name": "stdout",
          "text": [
            "07_seconds_in_year\n",
            "There are 31536000 seconds in a year\n"
          ]
        }
      ]
    },
    {
      "cell_type": "code",
      "source": [
        "print (\"08_tiny_mad_lib\")\n",
        "\n",
        "def mad_lib():\n",
        "  adjective: str = input(\"Enter an adjective: \")\n",
        "  noun: str = input(\"Enter a noun: \")\n",
        "  verb: str = input(\"Enter a verb: \")\n",
        "  print(f\"Do you {verb} your {adjective} {noun}?\")\n",
        "if __name__ == \"__main__\":\n",
        "  mad_lib()"
      ],
      "metadata": {
        "colab": {
          "base_uri": "https://localhost:8080/"
        },
        "id": "iCB6eIkwNMyr",
        "outputId": "6ea107a3-6305-4888-a81a-46068c26db26"
      },
      "execution_count": 23,
      "outputs": [
        {
          "output_type": "stream",
          "name": "stdout",
          "text": [
            "08_tiny_mad_lib\n",
            "Enter an adjective: shiny\n",
            "Enter a noun: Bike\n",
            "Enter a verb: ride\n",
            "Do you ride your shiny Bike?\n"
          ]
        }
      ]
    }
  ]
}