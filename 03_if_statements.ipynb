{
  "nbformat": 4,
  "nbformat_minor": 0,
  "metadata": {
    "colab": {
      "provenance": [],
      "authorship_tag": "ABX9TyMGRMmFZnKXVIHfZZaayooJ",
      "include_colab_link": true
    },
    "kernelspec": {
      "name": "python3",
      "display_name": "Python 3"
    },
    "language_info": {
      "name": "python"
    }
  },
  "cells": [
    {
      "cell_type": "markdown",
      "metadata": {
        "id": "view-in-github",
        "colab_type": "text"
      },
      "source": [
        "<a href=\"https://colab.research.google.com/github/Muhammad-Aman-Saeed/assignment_04/blob/main/03_if_statements.ipynb\" target=\"_parent\"><img src=\"https://colab.research.google.com/assets/colab-badge.svg\" alt=\"Open In Colab\"/></a>"
      ]
    },
    {
      "cell_type": "code",
      "execution_count": 1,
      "metadata": {
        "colab": {
          "base_uri": "https://localhost:8080/"
        },
        "id": "auoHFpmZLNY7",
        "outputId": "6840864a-1b61-46c7-87f5-8ea50b481bc6"
      },
      "outputs": [
        {
          "output_type": "stream",
          "name": "stdout",
          "text": [
            "01_print_events\n",
            "0\n",
            "2\n",
            "4\n",
            "6\n",
            "8\n",
            "10\n",
            "12\n",
            "14\n",
            "16\n",
            "18\n",
            "20\n",
            "22\n",
            "24\n",
            "26\n",
            "28\n",
            "30\n",
            "32\n",
            "34\n",
            "36\n",
            "38\n"
          ]
        }
      ],
      "source": [
        "print(\"01_print_events\")\n",
        "\n",
        "def even():\n",
        "  for i in range(40):\n",
        "    if i % 2 == 0:\n",
        "      print(i)\n",
        "\n",
        "if __name__ == '__main__':\n",
        "  even()\n"
      ]
    },
    {
      "cell_type": "code",
      "source": [
        "print(\"02_international_voting_age\")\n",
        "\n",
        "Peturksbouipo: int = 16\n",
        "Stanlau:int = 25\n",
        "Mayengua:int = 48\n",
        "\n",
        "def main():\n",
        "  age:int = int(input(\"Enter your age: \"))\n",
        "  if age >= Peturksbouipo:\n",
        "    print(\"You are eligible to vote in Peturksbouipo\")\n",
        "  else:\n",
        "    print(\"You are not eligible to vote in Peturksbouipo\")\n",
        "\n",
        "  if age >= Stanlau:\n",
        "    print(\"You are eligible to vote in Stanlau\")\n",
        "  else:\n",
        "    print(\"You are not eligible to vote in Stanlau\")\n",
        "\n",
        "  if age >= Mayengua:\n",
        "    print(\"You are eligible to vote in Mayengua\")\n",
        "  else:\n",
        "    print(\"You are not eligible to vote in Mayengua\")\n",
        "\n",
        "if __name__ == '__main__':\n",
        "  main()"
      ],
      "metadata": {
        "colab": {
          "base_uri": "https://localhost:8080/"
        },
        "id": "ldU6CMb0MJjE",
        "outputId": "38f756eb-6b4d-49b5-c001-aae369f8fce8"
      },
      "execution_count": 7,
      "outputs": [
        {
          "output_type": "stream",
          "name": "stdout",
          "text": [
            "02_international_voting_age\n",
            "Enter your age: 14\n",
            "You are not eligible to vote in Peturksbouipo\n",
            "You are not eligible to vote in Stanlau\n",
            "You are not eligible to vote in Mayengua\n"
          ]
        }
      ]
    },
    {
      "cell_type": "code",
      "source": [
        "print(\"03_leap_year\")\n",
        "\n",
        "def leap_year():\n",
        "  year:int = int(input(\"Enter year: \"))\n",
        "  if year % 4 == 0:\n",
        "    if year % 100 == 0:\n",
        "      if year % 400 == 0:\n",
        "        print(f\"{year} is a leap year.\")\n",
        "      else:\n",
        "        print(f\"{year} is not a leap year.\")\n",
        "    else:\n",
        "      print(f\"{year} is a leap year.\")\n",
        "  else:\n",
        "    print(f\"{year} is not a leap year.\")\n",
        "\n",
        "if __name__ == '__main__':\n",
        "  leap_year()\n",
        "\n"
      ],
      "metadata": {
        "colab": {
          "base_uri": "https://localhost:8080/"
        },
        "id": "gOUctYn-Os1T",
        "outputId": "f8d49ef1-89f6-4b53-a0b8-766c2d2b2e44"
      },
      "execution_count": 10,
      "outputs": [
        {
          "output_type": "stream",
          "name": "stdout",
          "text": [
            "03_leap_year\n",
            "Enter year: 2030\n",
            "2030 is not a leap year.\n"
          ]
        }
      ]
    },
    {
      "cell_type": "code",
      "source": [
        "print(\"04_tall_enough_to_ride\")\n",
        "\n",
        "min_height:int = 50\n",
        "\n",
        "def main():\n",
        "  user:int = int(input(\"How tall are you?: \"))\n",
        "  if user >= min_height:\n",
        "    print(\"You are tall enough to ride.\")\n",
        "  else:\n",
        "    print(\"You are not tall enough to ride.\")\n",
        "\n",
        "if __name__ == '__main__':\n",
        "  main()\n",
        "\n"
      ],
      "metadata": {
        "colab": {
          "base_uri": "https://localhost:8080/"
        },
        "id": "A_EdFsOOQ8d6",
        "outputId": "0ac30033-b686-44fc-9505-89001841c4b8"
      },
      "execution_count": 13,
      "outputs": [
        {
          "output_type": "stream",
          "name": "stdout",
          "text": [
            "04_tall_enough_to_ride\n",
            "How tall are you?: 120\n",
            "You are tall enough to ride.\n"
          ]
        }
      ]
    },
    {
      "cell_type": "code",
      "source": [
        "import random\n",
        "print(\"05_random_numbers\")\n",
        "\n",
        "def main():\n",
        "  for i in range(10):\n",
        "    num:list[list] = random.randint(1, 100)\n",
        "    print(num)\n",
        "\n",
        "if __name__ == '__main__':\n",
        "  main()"
      ],
      "metadata": {
        "colab": {
          "base_uri": "https://localhost:8080/"
        },
        "id": "tRBEdEYgSehg",
        "outputId": "7401f223-36b4-44a7-d9d1-949ec85043bf"
      },
      "execution_count": 18,
      "outputs": [
        {
          "output_type": "stream",
          "name": "stdout",
          "text": [
            "05_random_numbers\n",
            "9\n",
            "32\n",
            "79\n",
            "24\n",
            "57\n",
            "28\n",
            "68\n",
            "36\n",
            "80\n",
            "17\n"
          ]
        }
      ]
    }
  ]
}